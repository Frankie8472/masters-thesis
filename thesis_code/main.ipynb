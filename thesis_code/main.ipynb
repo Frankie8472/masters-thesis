{
 "cells": [
  {
   "cell_type": "markdown",
   "metadata": {
    "pycharm": {
     "name": "#%% md\n"
    }
   },
   "source": [
    "# Analysing pre-trained language models with topic models"
   ]
  },
  {
   "cell_type": "code",
   "execution_count": 1,
   "metadata": {
    "pycharm": {
     "name": "#%%\n"
    }
   },
   "outputs": [],
   "source": [
    "# Library imports\n",
    "import numpy as np\n",
    "import torch\n",
    "from transformers import set_seed\n",
    "from transformers import OpenAIGPTLMHeadModel, GPT2LMHeadModel, GPTNeoForCausalLM, CTRLLMHeadModel, TransfoXLLMHeadModel\n",
    "from transformers import OpenAIGPTTokenizer, GPT2Tokenizer, CTRLTokenizer, TransfoXLTokenizer\n",
    "\n",
    "# Seed for reproducability\n",
    "set_seed(42)\n",
    "\n",
    "# Tensorflow or Pytorch\n",
    "platform = \"pt\"     # \"tf\" but not configured for that\n",
    "\n",
    "# Use GPU or CPU\n",
    "use_gpu = False\n",
    "torch.set_num_threads(torch.get_num_threads()*2)\n",
    "device = \"cuda\" if torch.cuda.is_available() and use_gpu else \"cpu\""
   ]
  },
  {
   "cell_type": "markdown",
   "metadata": {
    "pycharm": {
     "name": "#%% md\n"
    }
   },
   "source": [
    "### Generating documents from selected pre-trained language models"
   ]
  },
  {
   "cell_type": "code",
   "execution_count": 3,
   "outputs": [
    {
     "name": "stderr",
     "output_type": "stream",
     "text": [
      "Some weights of OpenAIGPTLMHeadModel were not initialized from the model checkpoint at openai-gpt and are newly initialized: ['lm_head.weight']\n",
      "You should probably TRAIN this model on a down-stream task to be able to use it for predictions and inference.\n"
     ]
    },
    {
     "name": "stdout",
     "output_type": "stream",
     "text": [
      "512\n"
     ]
    }
   ],
   "source": [
    "# GPT\n",
    "model_name = \"openai-gpt\"\n",
    "tokenizer = OpenAIGPTTokenizer.from_pretrained(model_name)\n",
    "model = OpenAIGPTLMHeadModel.from_pretrained(model_name)\n",
    "init_text = tokenizer.bos_token\n",
    "\n",
    "encoded_input = tokenizer.encode(init_text, return_tensors=platform).to(device)\n",
    "model = model.to(device)\n",
    "\n",
    "encoded_output = model.generate(encoded_input, max_length=tokenizer.model_max_length, do_sample=True, top_k=0)\n",
    "decoded_output_gpt = tokenizer.decode(encoded_output[0], skip_special_tokens=True)\n",
    "print(len(encoded_output[0]))"
   ],
   "metadata": {
    "collapsed": false,
    "pycharm": {
     "name": "#%%\n"
    }
   }
  },
  {
   "cell_type": "code",
   "execution_count": 4,
   "metadata": {
    "pycharm": {
     "name": "#%%\n"
    }
   },
   "outputs": [
    {
     "name": "stdout",
     "output_type": "stream",
     "text": [
      "1024\n"
     ]
    }
   ],
   "source": [
    "# GPT2\n",
    "model_name = \"gpt2-xl\"\n",
    "tokenizer = GPT2Tokenizer.from_pretrained(model_name)\n",
    "model = GPT2LMHeadModel.from_pretrained(model_name, pad_token_id=tokenizer.eos_token_id)\n",
    "init_text = tokenizer.bos_token\n",
    "\n",
    "encoded_input = tokenizer.encode(init_text, return_tensors=platform).to(device)\n",
    "model = model.to(device)\n",
    "\n",
    "encoded_output = model.generate(encoded_input, max_length=tokenizer.model_max_length, do_sample=True, top_k=0)\n",
    "decoded_output_gpt2 = tokenizer.decode(encoded_output[0], skip_special_tokens=True)\n",
    "print(len(encoded_output[0]))"
   ]
  },
  {
   "cell_type": "code",
   "execution_count": 5,
   "metadata": {
    "pycharm": {
     "name": "#%%\n"
    }
   },
   "outputs": [
    {
     "data": {
      "text/plain": "Downloading:   0%|          | 0.00/779k [00:00<?, ?B/s]",
      "application/vnd.jupyter.widget-view+json": {
       "version_major": 2,
       "version_minor": 0,
       "model_id": "a436c782b7064d30befb57a9feb728ad"
      }
     },
     "metadata": {},
     "output_type": "display_data"
    },
    {
     "data": {
      "text/plain": "Downloading:   0%|          | 0.00/446k [00:00<?, ?B/s]",
      "application/vnd.jupyter.widget-view+json": {
       "version_major": 2,
       "version_minor": 0,
       "model_id": "2d39ea2a1b2047d790864ef3969495ce"
      }
     },
     "metadata": {},
     "output_type": "display_data"
    },
    {
     "data": {
      "text/plain": "Downloading:   0%|          | 0.00/90.0 [00:00<?, ?B/s]",
      "application/vnd.jupyter.widget-view+json": {
       "version_major": 2,
       "version_minor": 0,
       "model_id": "4e6a07b61a4a4f48bde04035e8a740e9"
      }
     },
     "metadata": {},
     "output_type": "display_data"
    },
    {
     "data": {
      "text/plain": "Downloading:   0%|          | 0.00/200 [00:00<?, ?B/s]",
      "application/vnd.jupyter.widget-view+json": {
       "version_major": 2,
       "version_minor": 0,
       "model_id": "d0d26ec1e45d42159a004f10d86d04ef"
      }
     },
     "metadata": {},
     "output_type": "display_data"
    },
    {
     "data": {
      "text/plain": "Downloading:   0%|          | 0.00/1.42k [00:00<?, ?B/s]",
      "application/vnd.jupyter.widget-view+json": {
       "version_major": 2,
       "version_minor": 0,
       "model_id": "240bdd5dc28f400aadb19b79c16b02be"
      }
     },
     "metadata": {},
     "output_type": "display_data"
    },
    {
     "data": {
      "text/plain": "Downloading:   0%|          | 0.00/9.94G [00:00<?, ?B/s]",
      "application/vnd.jupyter.widget-view+json": {
       "version_major": 2,
       "version_minor": 0,
       "model_id": "1971d24f87ed4b9caf19af838415c8e2"
      }
     },
     "metadata": {},
     "output_type": "display_data"
    },
    {
     "name": "stdout",
     "output_type": "stream",
     "text": [
      "727\n"
     ]
    }
   ],
   "source": [
    "# GPT3/Neo\n",
    "model_name = \"EleutherAI/gpt-neo-2.7B\"\n",
    "tokenizer = GPT2Tokenizer.from_pretrained(model_name)\n",
    "model = GPTNeoForCausalLM.from_pretrained(model_name, pad_token_id=tokenizer.eos_token_id)\n",
    "init_text = tokenizer.bos_token\n",
    "\n",
    "encoded_input = tokenizer.encode(init_text, return_tensors=platform).to(device)\n",
    "model = model.to(device)\n",
    "\n",
    "encoded_output = model.generate(encoded_input, max_length=2048, do_sample=True, top_k=0)\n",
    "decoded_output_gpt3 = tokenizer.decode(encoded_output[0], skip_special_tokens=True)\n",
    "print(len(encoded_output[0]))"
   ]
  },
  {
   "cell_type": "code",
   "execution_count": null,
   "metadata": {
    "pycharm": {
     "is_executing": true
    }
   },
   "outputs": [],
   "source": [
    "# Ctrl - ERROR does not accept bos token as start\n",
    "model_name = \"ctrl\"\n",
    "tokenizer = CTRLTokenizer.from_pretrained(model_name)\n",
    "model = CTRLLMHeadModel.from_pretrained(model_name, pad_token_id=tokenizer.eos_token_id)\n",
    "init_text = tokenizer.bos_token\n",
    "\n",
    "encoded_input = tokenizer.encode(init_text, return_tensors=platform).to(device)\n",
    "model = model.to(device)\n",
    "\n",
    "encoded_output = model.generate(encoded_input, max_length=tokenizer.model_max_length, do_sample=True, top_k=0)\n",
    "decoded_output_ctrl = tokenizer.decode(encoded_output[0], skip_special_tokens=True)\n",
    "print(len(encoded_output[0]))"
   ]
  },
  {
   "cell_type": "code",
   "execution_count": null,
   "metadata": {
    "pycharm": {
     "is_executing": true
    }
   },
   "outputs": [],
   "source": [
    "# Transfo-XL - ERROR does not accept bos token as start\n",
    "model_name = \"transfo-xl-wt103\"\n",
    "tokenizer = TransfoXLTokenizer.from_pretrained(model_name)\n",
    "model = TransfoXLLMHeadModel.from_pretrained(model_name, pad_token_id=tokenizer.eos_token_id)\n",
    "init_text = tokenizer.bos_token\n",
    "\n",
    "encoded_input = tokenizer.encode(init_text, return_tensors=platform).to(device)\n",
    "model = model.to(device)\n",
    "\n",
    "encoded_output = model.generate(encoded_input, max_length=tokenizer.model_max_length, do_sample=True, top_k=0)\n",
    "decoded_output_txl = tokenizer.decode(encoded_output[0], skip_special_tokens=True)\n",
    "print(len(encoded_output[0]))"
   ]
  },
  {
   "cell_type": "code",
   "execution_count": null,
   "outputs": [],
   "source": [],
   "metadata": {
    "collapsed": false,
    "pycharm": {
     "name": "#%%\n"
    }
   }
  }
 ],
 "metadata": {
  "kernelspec": {
   "display_name": "Python 3 (ipykernel)",
   "language": "python",
   "name": "python3"
  },
  "language_info": {
   "codemirror_mode": {
    "name": "ipython",
    "version": 3
   },
   "file_extension": ".py",
   "mimetype": "text/x-python",
   "name": "python",
   "nbconvert_exporter": "python",
   "pygments_lexer": "ipython3",
   "version": "3.9.9"
  }
 },
 "nbformat": 4,
 "nbformat_minor": 1
}
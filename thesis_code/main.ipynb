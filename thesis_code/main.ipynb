{
 "cells": [
  {
   "cell_type": "code",
   "execution_count": 3,
   "metadata": {},
   "outputs": [],
   "source": [
    "from transformers import pipeline, set_seed\n",
    "set_seed(42)"
   ]
  },
  {
   "cell_type": "code",
   "execution_count": 4,
   "metadata": {},
   "outputs": [
    {
     "name": "stderr",
     "output_type": "stream",
     "text": [
      "Setting `pad_token_id` to `eos_token_id`:50256 for open-end generation.\n"
     ]
    },
    {
     "data": {
      "text/plain": [
       "[{'generated_text': \"As if that wasn't enough, the team is also making a few big changes to the game with the launch of the new Star Wars mobile app. Star Wars Battlefront: Rebellion on the Xbox Play Store will also feature new games based on existing content from the series, including Galactic Core and the next instalment in Rebels: Knights of the Old Republic. In addition, new games will be available on the Xbox One, PC, and PS4, a major increase in the amount of content\"},\n",
       " {'generated_text': '- - - - - - - - -\\n\\nROBIN ROSS - - - - - - - - -\\n\\nI am now going to give this one a shot.\\n\\nWhat is this thing and why are two of my friends so so different!\\n\\nROBIN - - - - - - - - - - - -\\n\\nWhy does my hair look so different?\\n\\nJUAN GONZÁLEZ - - - - -'},\n",
       " {'generated_text': '\\nThe new study says that there is no difference between male and female sex chromosomes.\\n\\nGender equality. - Professor Sainath Gupta\\n\\nThe National Research Council has made great progress on that front, describing the study \"the first detailed study of how human female chromosomes have shaped society for nearly 150 years\".\\n\\nThe landmark finding will see advances in study of gender equity in higher education, for example in a recent survey showing that 90 per cent of the public are more likely to believe'},\n",
       " {'generated_text': 'Ripa\\n\\nIf you are looking for a low cost way to enjoy the holidays with your family or friends\\n\\nThe main attraction in the winter holiday season is food at the Ripa restaurant. The atmosphere is relaxed and easy to navigate, the service is easy to navigate and the staff are friendly and nice. The menu has some good things to add for those that have been there previously.\\n\\nCake\\n\\nThere is currently no day to day menu for the Cafe R'},\n",
       " {'generated_text': \"If you have any questions, comments, or suggestions, use the Forum Thread in the drop off box provided above.\\n\\nTo receive your order, simply press Enter\\n\\nIf you have any questions, comments, or suggestions, please contact us\\n\\nWe'd love to hear from you. Email us at info@scamsoft.etsy.com\"},\n",
       " {'generated_text': 'The United States is in the midst of an invasion of Iraq, and the American public is making increasingly ominous statements claiming that we should be doing everything possible to prevent war.\\n\\nThe President of the United States of America is one of those many in control of our entire military and is leading the war effort.\\n\\nYet he is always leading the offensive -- and at times it seems like he is also leading the defense effort, which is the most advanced in military behavior that we have.\\n'},\n",
       " {'generated_text': 'A new study confirms that patients with heart disease who consume moderate amounts of alcohol (0.8 grams) daily have an average BMI of 39.5 with an average risk of heart disease (1.2, 2, 3). While a small number of people may experience this phenomenon, more than 90% would be considered to be alcohol smokers — the latter being the most common reason for being diagnosed with heart disease.\\n\\nIn the study, researchers from the Norwegian Medical University found that patients in'},\n",
       " {'generated_text': '4.3 - Added support for macOS Sierra\\n\\n- Performance improvements\\n\\n- Performance improvements\\n\\n- Stability improvements\\n\\n- Performance improvements\\n\\n- AppStore support now updated to v13.5\\n\\n3.2.1 You may not only hear the news - the full macOS Sierra desktop release has also been released! Check out the latest updates in this trailer and the quick preview of those changes here.\\n\\nMore\\n\\n1.4 • We made another update to'},\n",
       " {'generated_text': 'Celeste Toussaint is a researcher at the Centre for Bioethics at the University of Alberta School of Law and the author of \"The Case of the Feds: Criminal and Financial Implications of the Financial Fraud Phenomenon,\" published by Harvard University in 2014. Read more posts by Celeste on Medium\\n\\nHow do we know these bank bonuses aren\\'t going to benefit us?\\n\\nThis blog post by Michael Collins, a professor of law at the University of Toronto'},\n",
       " {'generated_text': \"Tottenham Hotspur captain Alvaro Morata left Sunday's Champions League tie 1.5 games behind his league counterparts Arsenal in what is a significant upset for a club that is widely perceived as one of football's most elite.\\n\\nThe French giants have won just eight league games this season, and their 10 league wins over Leicester City, Chelsea, Liverpool and Tottenham Hotspur came on the back of a 0-0 draw against Manchester City, who went on to defeat Aston Villa.\\n\"}]"
      ]
     },
     "execution_count": 4,
     "metadata": {},
     "output_type": "execute_result"
    }
   ],
   "source": [
    "generator = pipeline('text-generation', model='gpt2')\n",
    "generator(\"\", max_length=100, num_return_sequences=10)"
   ]
  },
  {
   "cell_type": "code",
   "execution_count": 6,
   "metadata": {},
   "outputs": [
    {
     "data": {
      "application/vnd.jupyter.widget-view+json": {
       "model_id": "6a9521676c6945d7b08544f1cb57c5b3",
       "version_major": 2,
       "version_minor": 0
      },
      "text/plain": [
       "Downloading:   0%|          | 0.00/1.32k [00:00<?, ?B/s]"
      ]
     },
     "metadata": {},
     "output_type": "display_data"
    },
    {
     "data": {
      "application/vnd.jupyter.widget-view+json": {
       "model_id": "7cf2258b2a3c42bab6e399957fd01f00",
       "version_major": 2,
       "version_minor": 0
      },
      "text/plain": [
       "Downloading:   0%|          | 0.00/4.95G [00:00<?, ?B/s]"
      ]
     },
     "metadata": {},
     "output_type": "display_data"
    },
    {
     "data": {
      "application/vnd.jupyter.widget-view+json": {
       "model_id": "7253cb85cef34b41976d0d3b8966408c",
       "version_major": 2,
       "version_minor": 0
      },
      "text/plain": [
       "Downloading:   0%|          | 0.00/200 [00:00<?, ?B/s]"
      ]
     },
     "metadata": {},
     "output_type": "display_data"
    },
    {
     "data": {
      "application/vnd.jupyter.widget-view+json": {
       "model_id": "8ce6da07d82a44dc917d57d259d87355",
       "version_major": 2,
       "version_minor": 0
      },
      "text/plain": [
       "Downloading:   0%|          | 0.00/779k [00:00<?, ?B/s]"
      ]
     },
     "metadata": {},
     "output_type": "display_data"
    },
    {
     "data": {
      "application/vnd.jupyter.widget-view+json": {
       "model_id": "dbb37af25d1c4c74b288ab3e52c8c78d",
       "version_major": 2,
       "version_minor": 0
      },
      "text/plain": [
       "Downloading:   0%|          | 0.00/446k [00:00<?, ?B/s]"
      ]
     },
     "metadata": {},
     "output_type": "display_data"
    },
    {
     "data": {
      "application/vnd.jupyter.widget-view+json": {
       "model_id": "8e215bea8102462dbcef39e2cf37d6db",
       "version_major": 2,
       "version_minor": 0
      },
      "text/plain": [
       "Downloading:   0%|          | 0.00/90.0 [00:00<?, ?B/s]"
      ]
     },
     "metadata": {},
     "output_type": "display_data"
    },
    {
     "name": "stderr",
     "output_type": "stream",
     "text": [
      "Setting `pad_token_id` to `eos_token_id`:50256 for open-end generation.\n"
     ]
    },
    {
     "data": {
      "text/plain": [
       "[{'generated_text': \"// @flow\\n\\nimport type {\\n  types as typesArray\\n} from 'common/typescript/types';\\n\\ntype typeOf = typesArray['default'](3, 4);\\n\\ntype classArray = typesArray['class'](2, 3);\\n\\ntype typeOfType = {\\n  typeOf: typeOf\\n  [type: string]: type\\n};\\n\\ntype getters = {\\n  get: typeOfType[Object\"},\n",
       " {'generated_text': 'Q:\\n\\nHow can I create a list of tuples or tuples of tuples in python?\\n\\nI can\\'t find how to create a list of tuples in python, can someone help me?\\n>>> def create_list(list_of_tuples):\\n        \"\"\" Create a list [element1, element2, element3, etc. ] \"\"\"\\n        # print the list.\\n '},\n",
       " {'generated_text': 'The invention relates to a method for manufacturing a semiconductor integrated device and, more particularly, to a method for manufacturing a semiconductor integrated device including a source/drain diffusion layer and a semiconductor layer located between the source/drain diffusion layer and the semiconductor layer being exposed into active regions and being subjected to a gate and a gate oxide film formation.\\nIt is a common practice to form source/drain regions of a semiconductor integrated device through a plurality of process steps,'},\n",
       " {'generated_text': \"Q:\\n\\nHow to create, add and delete rows from a table with php\\n\\nI don't know where to start with this, so any help would be appreciated.  Basically I am trying to have the user click on a row in the table so I make another row for it in the table.  I also want to give the user the option to create a new row, and delete or delete the row they previously clicked on.  I think this needs more help than a\"},\n",
       " {'generated_text': '\\n\\nAsk HN: What to do about the iPad Pro\\'s Wi-Fi throttling and \"No Wi-Fi\" issue - jkush\\n\\nWhat about the iPad Pro (not the iPad Air 2) have to do with this Wi-Fi throttling and \"No Wi-Fi\" issue? I was thinking it was either a hardware problem or an iOS issue but I couldn\\'t find any mention of any of these things.<p>For those of yall reading this'},\n",
       " {'generated_text': '\\n\\nFacebook\\'s \"Facebook Effect\"... - mrsebastian\\nhttp://www.theatlantic.com/technology/archive/2013/12/facebook-ads/309096/\\n\\n======\\nlbriner\\nThe article is from December 2013. Facebook already had 1 billion users on\\nDecember 25th. That\\'s not 1 billion users - it\\'s 9 billion users. It has\\nbeen going on for at least 18 months.\\n\\nFacebook already had a'},\n",
       " {'generated_text': 'Q:\\n\\nHow to set up a Django form with nested foreign keys\\n\\nI have a Django project which includes a form which should accept some user input, that input is in the form of a post.\\nclass UserForm(forms.ModelForm):\\n  # form fields here....\\n\\nclass UserPost(models.Model):\\n   # field names here....\\n   title = models.CharField(max_length=50)\\n   content ='},\n",
       " {'generated_text': 'Q:\\n\\nHow do I write a regular expression that is not a part of a comment delimiter?\\n\\nI am writing a regular expression that searches through a file. The regular expression consists of the following lines:\\n[^\\\\n]\\n\\nI have tried a bunch of different combinations of the character class [^\\\\s, \\\\s, \\\\n] and it appears that for the line\\n[^\\\\n]\\n\\nthe regular expression I am attempting to apply'},\n",
       " {'generated_text': 'Q:\\n\\nHow do I get the list of files in a folder recursively?\\n\\nI want to print all files in a folder recursively.\\nHow can I do this?\\n\\nA:\\n\\nUsing C:\\nusing System;\\n\\nnamespace ConsoleApplication1\\n{\\n    class Program\\n    {\\n\\n        static void Main(string[] args)\\n        {'},\n",
       " {'generated_text': \"I know I'm a bit late on this, but it's been a while!\\n\\nI have a question I'd like to have answered. I know that I have many of the same questions as someone else already asked.\\n\\nWhat is the best way to make a non-stick, high performance skillet using only oil, and have it remain very bright white?\\n\\nI have considered a couple things. First, I'm considering going to a low heat setting. The skillet will\"}]"
      ]
     },
     "execution_count": 6,
     "metadata": {},
     "output_type": "execute_result"
    }
   ],
   "source": [
    "generator = pipeline('text-generation', model='EleutherAI/gpt-neo-1.3B')\n",
    "generator(\"\", max_length=100, num_return_sequences=10)"
   ]
  },
  {
   "cell_type": "code",
   "execution_count": 8,
   "metadata": {},
   "outputs": [
    {
     "name": "stderr",
     "output_type": "stream",
     "text": [
      "404 Client Error: Not Found for url: https://huggingface.co/distilbert/resolve/main/config.json\n"
     ]
    },
    {
     "ename": "OSError",
     "evalue": "Can't load config for 'distilbert'. Make sure that:\n\n- 'distilbert' is a correct model identifier listed on 'https://huggingface.co/models'\n  (make sure 'distilbert' is not a path to a local directory with something else, in that case)\n\n- or 'distilbert' is the correct path to a directory containing a config.json file\n\n",
     "output_type": "error",
     "traceback": [
      "\u001B[1;31m---------------------------------------------------------------------------\u001B[0m",
      "\u001B[1;31mHTTPError\u001B[0m                                 Traceback (most recent call last)",
      "\u001B[1;32m~\\PycharmProjects\\venv38\\lib\\site-packages\\transformers\\configuration_utils.py\u001B[0m in \u001B[0;36mget_config_dict\u001B[1;34m(cls, pretrained_model_name_or_path, **kwargs)\u001B[0m\n\u001B[0;32m    549\u001B[0m             \u001B[1;31m# Load from URL or cache if already cached\u001B[0m\u001B[1;33m\u001B[0m\u001B[1;33m\u001B[0m\u001B[1;33m\u001B[0m\u001B[0m\n\u001B[1;32m--> 550\u001B[1;33m             resolved_config_file = cached_path(\n\u001B[0m\u001B[0;32m    551\u001B[0m                 \u001B[0mconfig_file\u001B[0m\u001B[1;33m,\u001B[0m\u001B[1;33m\u001B[0m\u001B[1;33m\u001B[0m\u001B[0m\n",
      "\u001B[1;32m~\\PycharmProjects\\venv38\\lib\\site-packages\\transformers\\file_utils.py\u001B[0m in \u001B[0;36mcached_path\u001B[1;34m(url_or_filename, cache_dir, force_download, proxies, resume_download, user_agent, extract_compressed_file, force_extract, use_auth_token, local_files_only)\u001B[0m\n\u001B[0;32m   1490\u001B[0m         \u001B[1;31m# URL, so get it from the cache (downloading if necessary)\u001B[0m\u001B[1;33m\u001B[0m\u001B[1;33m\u001B[0m\u001B[1;33m\u001B[0m\u001B[0m\n\u001B[1;32m-> 1491\u001B[1;33m         output_path = get_from_cache(\n\u001B[0m\u001B[0;32m   1492\u001B[0m             \u001B[0murl_or_filename\u001B[0m\u001B[1;33m,\u001B[0m\u001B[1;33m\u001B[0m\u001B[1;33m\u001B[0m\u001B[0m\n",
      "\u001B[1;32m~\\PycharmProjects\\venv38\\lib\\site-packages\\transformers\\file_utils.py\u001B[0m in \u001B[0;36mget_from_cache\u001B[1;34m(url, cache_dir, force_download, proxies, etag_timeout, resume_download, user_agent, use_auth_token, local_files_only)\u001B[0m\n\u001B[0;32m   1662\u001B[0m             \u001B[0mr\u001B[0m \u001B[1;33m=\u001B[0m \u001B[0mrequests\u001B[0m\u001B[1;33m.\u001B[0m\u001B[0mhead\u001B[0m\u001B[1;33m(\u001B[0m\u001B[0murl\u001B[0m\u001B[1;33m,\u001B[0m \u001B[0mheaders\u001B[0m\u001B[1;33m=\u001B[0m\u001B[0mheaders\u001B[0m\u001B[1;33m,\u001B[0m \u001B[0mallow_redirects\u001B[0m\u001B[1;33m=\u001B[0m\u001B[1;32mFalse\u001B[0m\u001B[1;33m,\u001B[0m \u001B[0mproxies\u001B[0m\u001B[1;33m=\u001B[0m\u001B[0mproxies\u001B[0m\u001B[1;33m,\u001B[0m \u001B[0mtimeout\u001B[0m\u001B[1;33m=\u001B[0m\u001B[0metag_timeout\u001B[0m\u001B[1;33m)\u001B[0m\u001B[1;33m\u001B[0m\u001B[1;33m\u001B[0m\u001B[0m\n\u001B[1;32m-> 1663\u001B[1;33m             \u001B[0mr\u001B[0m\u001B[1;33m.\u001B[0m\u001B[0mraise_for_status\u001B[0m\u001B[1;33m(\u001B[0m\u001B[1;33m)\u001B[0m\u001B[1;33m\u001B[0m\u001B[1;33m\u001B[0m\u001B[0m\n\u001B[0m\u001B[0;32m   1664\u001B[0m             \u001B[0metag\u001B[0m \u001B[1;33m=\u001B[0m \u001B[0mr\u001B[0m\u001B[1;33m.\u001B[0m\u001B[0mheaders\u001B[0m\u001B[1;33m.\u001B[0m\u001B[0mget\u001B[0m\u001B[1;33m(\u001B[0m\u001B[1;34m\"X-Linked-Etag\"\u001B[0m\u001B[1;33m)\u001B[0m \u001B[1;32mor\u001B[0m \u001B[0mr\u001B[0m\u001B[1;33m.\u001B[0m\u001B[0mheaders\u001B[0m\u001B[1;33m.\u001B[0m\u001B[0mget\u001B[0m\u001B[1;33m(\u001B[0m\u001B[1;34m\"ETag\"\u001B[0m\u001B[1;33m)\u001B[0m\u001B[1;33m\u001B[0m\u001B[1;33m\u001B[0m\u001B[0m\n",
      "\u001B[1;32m~\\PycharmProjects\\venv38\\lib\\site-packages\\requests\\models.py\u001B[0m in \u001B[0;36mraise_for_status\u001B[1;34m(self)\u001B[0m\n\u001B[0;32m    952\u001B[0m         \u001B[1;32mif\u001B[0m \u001B[0mhttp_error_msg\u001B[0m\u001B[1;33m:\u001B[0m\u001B[1;33m\u001B[0m\u001B[1;33m\u001B[0m\u001B[0m\n\u001B[1;32m--> 953\u001B[1;33m             \u001B[1;32mraise\u001B[0m \u001B[0mHTTPError\u001B[0m\u001B[1;33m(\u001B[0m\u001B[0mhttp_error_msg\u001B[0m\u001B[1;33m,\u001B[0m \u001B[0mresponse\u001B[0m\u001B[1;33m=\u001B[0m\u001B[0mself\u001B[0m\u001B[1;33m)\u001B[0m\u001B[1;33m\u001B[0m\u001B[1;33m\u001B[0m\u001B[0m\n\u001B[0m\u001B[0;32m    954\u001B[0m \u001B[1;33m\u001B[0m\u001B[0m\n",
      "\u001B[1;31mHTTPError\u001B[0m: 404 Client Error: Not Found for url: https://huggingface.co/distilbert/resolve/main/config.json",
      "\nDuring handling of the above exception, another exception occurred:\n",
      "\u001B[1;31mOSError\u001B[0m                                   Traceback (most recent call last)",
      "\u001B[1;32m~\\AppData\\Local\\Temp/ipykernel_988/1313413930.py\u001B[0m in \u001B[0;36m<module>\u001B[1;34m\u001B[0m\n\u001B[1;32m----> 1\u001B[1;33m \u001B[0mgenerator\u001B[0m \u001B[1;33m=\u001B[0m \u001B[0mpipeline\u001B[0m\u001B[1;33m(\u001B[0m\u001B[1;34m'text-generation'\u001B[0m\u001B[1;33m,\u001B[0m \u001B[0mmodel\u001B[0m\u001B[1;33m=\u001B[0m\u001B[1;34m'distilbert'\u001B[0m\u001B[1;33m)\u001B[0m\u001B[1;33m\u001B[0m\u001B[1;33m\u001B[0m\u001B[0m\n\u001B[0m\u001B[0;32m      2\u001B[0m \u001B[0mgenerator\u001B[0m\u001B[1;33m(\u001B[0m\u001B[1;34m\"\"\u001B[0m\u001B[1;33m,\u001B[0m \u001B[0mmax_length\u001B[0m\u001B[1;33m=\u001B[0m\u001B[1;36m100\u001B[0m\u001B[1;33m,\u001B[0m \u001B[0mnum_return_sequences\u001B[0m\u001B[1;33m=\u001B[0m\u001B[1;36m10\u001B[0m\u001B[1;33m)\u001B[0m\u001B[1;33m\u001B[0m\u001B[1;33m\u001B[0m\u001B[0m\n",
      "\u001B[1;32m~\\PycharmProjects\\venv38\\lib\\site-packages\\transformers\\pipelines\\__init__.py\u001B[0m in \u001B[0;36mpipeline\u001B[1;34m(task, model, config, tokenizer, feature_extractor, framework, revision, use_fast, use_auth_token, model_kwargs, **kwargs)\u001B[0m\n\u001B[0;32m    452\u001B[0m         \u001B[0mconfig\u001B[0m \u001B[1;33m=\u001B[0m \u001B[0mAutoConfig\u001B[0m\u001B[1;33m.\u001B[0m\u001B[0mfrom_pretrained\u001B[0m\u001B[1;33m(\u001B[0m\u001B[0mconfig\u001B[0m\u001B[1;33m,\u001B[0m \u001B[0mrevision\u001B[0m\u001B[1;33m=\u001B[0m\u001B[0mrevision\u001B[0m\u001B[1;33m,\u001B[0m \u001B[0m_from_pipeline\u001B[0m\u001B[1;33m=\u001B[0m\u001B[0mtask\u001B[0m\u001B[1;33m,\u001B[0m \u001B[1;33m**\u001B[0m\u001B[0mmodel_kwargs\u001B[0m\u001B[1;33m)\u001B[0m\u001B[1;33m\u001B[0m\u001B[1;33m\u001B[0m\u001B[0m\n\u001B[0;32m    453\u001B[0m     \u001B[1;32melif\u001B[0m \u001B[0mconfig\u001B[0m \u001B[1;32mis\u001B[0m \u001B[1;32mNone\u001B[0m \u001B[1;32mand\u001B[0m \u001B[0misinstance\u001B[0m\u001B[1;33m(\u001B[0m\u001B[0mmodel\u001B[0m\u001B[1;33m,\u001B[0m \u001B[0mstr\u001B[0m\u001B[1;33m)\u001B[0m\u001B[1;33m:\u001B[0m\u001B[1;33m\u001B[0m\u001B[1;33m\u001B[0m\u001B[0m\n\u001B[1;32m--> 454\u001B[1;33m         \u001B[0mconfig\u001B[0m \u001B[1;33m=\u001B[0m \u001B[0mAutoConfig\u001B[0m\u001B[1;33m.\u001B[0m\u001B[0mfrom_pretrained\u001B[0m\u001B[1;33m(\u001B[0m\u001B[0mmodel\u001B[0m\u001B[1;33m,\u001B[0m \u001B[0mrevision\u001B[0m\u001B[1;33m=\u001B[0m\u001B[0mrevision\u001B[0m\u001B[1;33m,\u001B[0m \u001B[0m_from_pipeline\u001B[0m\u001B[1;33m=\u001B[0m\u001B[0mtask\u001B[0m\u001B[1;33m,\u001B[0m \u001B[1;33m**\u001B[0m\u001B[0mmodel_kwargs\u001B[0m\u001B[1;33m)\u001B[0m\u001B[1;33m\u001B[0m\u001B[1;33m\u001B[0m\u001B[0m\n\u001B[0m\u001B[0;32m    455\u001B[0m \u001B[1;33m\u001B[0m\u001B[0m\n\u001B[0;32m    456\u001B[0m     \u001B[0mmodel_name\u001B[0m \u001B[1;33m=\u001B[0m \u001B[0mmodel\u001B[0m \u001B[1;32mif\u001B[0m \u001B[0misinstance\u001B[0m\u001B[1;33m(\u001B[0m\u001B[0mmodel\u001B[0m\u001B[1;33m,\u001B[0m \u001B[0mstr\u001B[0m\u001B[1;33m)\u001B[0m \u001B[1;32melse\u001B[0m \u001B[1;32mNone\u001B[0m\u001B[1;33m\u001B[0m\u001B[1;33m\u001B[0m\u001B[0m\n",
      "\u001B[1;32m~\\PycharmProjects\\venv38\\lib\\site-packages\\transformers\\models\\auto\\configuration_auto.py\u001B[0m in \u001B[0;36mfrom_pretrained\u001B[1;34m(cls, pretrained_model_name_or_path, **kwargs)\u001B[0m\n\u001B[0;32m    556\u001B[0m         \"\"\"\n\u001B[0;32m    557\u001B[0m         \u001B[0mkwargs\u001B[0m\u001B[1;33m[\u001B[0m\u001B[1;34m\"_from_auto\"\u001B[0m\u001B[1;33m]\u001B[0m \u001B[1;33m=\u001B[0m \u001B[1;32mTrue\u001B[0m\u001B[1;33m\u001B[0m\u001B[1;33m\u001B[0m\u001B[0m\n\u001B[1;32m--> 558\u001B[1;33m         \u001B[0mconfig_dict\u001B[0m\u001B[1;33m,\u001B[0m \u001B[0m_\u001B[0m \u001B[1;33m=\u001B[0m \u001B[0mPretrainedConfig\u001B[0m\u001B[1;33m.\u001B[0m\u001B[0mget_config_dict\u001B[0m\u001B[1;33m(\u001B[0m\u001B[0mpretrained_model_name_or_path\u001B[0m\u001B[1;33m,\u001B[0m \u001B[1;33m**\u001B[0m\u001B[0mkwargs\u001B[0m\u001B[1;33m)\u001B[0m\u001B[1;33m\u001B[0m\u001B[1;33m\u001B[0m\u001B[0m\n\u001B[0m\u001B[0;32m    559\u001B[0m         \u001B[1;32mif\u001B[0m \u001B[1;34m\"model_type\"\u001B[0m \u001B[1;32min\u001B[0m \u001B[0mconfig_dict\u001B[0m\u001B[1;33m:\u001B[0m\u001B[1;33m\u001B[0m\u001B[1;33m\u001B[0m\u001B[0m\n\u001B[0;32m    560\u001B[0m             \u001B[0mconfig_class\u001B[0m \u001B[1;33m=\u001B[0m \u001B[0mCONFIG_MAPPING\u001B[0m\u001B[1;33m[\u001B[0m\u001B[0mconfig_dict\u001B[0m\u001B[1;33m[\u001B[0m\u001B[1;34m\"model_type\"\u001B[0m\u001B[1;33m]\u001B[0m\u001B[1;33m]\u001B[0m\u001B[1;33m\u001B[0m\u001B[1;33m\u001B[0m\u001B[0m\n",
      "\u001B[1;32m~\\PycharmProjects\\venv38\\lib\\site-packages\\transformers\\configuration_utils.py\u001B[0m in \u001B[0;36mget_config_dict\u001B[1;34m(cls, pretrained_model_name_or_path, **kwargs)\u001B[0m\n\u001B[0;32m    573\u001B[0m                 \u001B[0mmsg\u001B[0m \u001B[1;33m+=\u001B[0m \u001B[1;34mf\"- or '{revision}' is a valid git identifier (branch name, a tag name, or a commit id) that exists for this model name as listed on its model page on 'https://huggingface.co/models'\\n\\n\"\u001B[0m\u001B[1;33m\u001B[0m\u001B[1;33m\u001B[0m\u001B[0m\n\u001B[0;32m    574\u001B[0m \u001B[1;33m\u001B[0m\u001B[0m\n\u001B[1;32m--> 575\u001B[1;33m             \u001B[1;32mraise\u001B[0m \u001B[0mEnvironmentError\u001B[0m\u001B[1;33m(\u001B[0m\u001B[0mmsg\u001B[0m\u001B[1;33m)\u001B[0m\u001B[1;33m\u001B[0m\u001B[1;33m\u001B[0m\u001B[0m\n\u001B[0m\u001B[0;32m    576\u001B[0m \u001B[1;33m\u001B[0m\u001B[0m\n\u001B[0;32m    577\u001B[0m         \u001B[1;32mexcept\u001B[0m \u001B[1;33m(\u001B[0m\u001B[0mjson\u001B[0m\u001B[1;33m.\u001B[0m\u001B[0mJSONDecodeError\u001B[0m\u001B[1;33m,\u001B[0m \u001B[0mUnicodeDecodeError\u001B[0m\u001B[1;33m)\u001B[0m\u001B[1;33m:\u001B[0m\u001B[1;33m\u001B[0m\u001B[1;33m\u001B[0m\u001B[0m\n",
      "\u001B[1;31mOSError\u001B[0m: Can't load config for 'distilbert'. Make sure that:\n\n- 'distilbert' is a correct model identifier listed on 'https://huggingface.co/models'\n  (make sure 'distilbert' is not a path to a local directory with something else, in that case)\n\n- or 'distilbert' is the correct path to a directory containing a config.json file\n\n"
     ]
    }
   ],
   "source": [
    "generator = pipeline('text-generation', model='distilbert') # Not correct yet\n",
    "generator(\"\", max_length=100, num_return_sequences=10)"
   ]
  },
  {
   "cell_type": "code",
   "execution_count": null,
   "metadata": {},
   "outputs": [],
   "source": []
  }
 ],
 "metadata": {
  "kernelspec": {
   "display_name": "Python 3 (ipykernel)",
   "language": "python",
   "name": "python3"
  },
  "language_info": {
   "codemirror_mode": {
    "name": "ipython",
    "version": 3
   },
   "file_extension": ".py",
   "mimetype": "text/x-python",
   "name": "python",
   "nbconvert_exporter": "python",
   "pygments_lexer": "ipython3",
   "version": "3.8.3"
  }
 },
 "nbformat": 4,
 "nbformat_minor": 1
}